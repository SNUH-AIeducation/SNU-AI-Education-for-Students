{
 "cells": [
  {
   "cell_type": "markdown",
   "metadata": {},
   "source": [
    "# 의료와 데이터사이언스 - 11주차\n",
    "## 비정형 데이터 생체신호 분석 2: 생체신호 인공지능 모델링 2 - 3\n",
    "- Author : **Hyun-Lim Yang, Ph.D.**<br>\n",
    "Assistant Professor @ Office of Hospital Information, Seoul National University Hospital <br>\n",
    "Adjunct Assistant Professor @ Department of Medicine, Seoul National University College of Medicine\n",
    "- E-mail : hlyang{_at_}snu{_dot_}ac{_dot_}kr\n",
    "***"
   ]
  },
  {
   "cell_type": "code",
   "execution_count": 1,
   "metadata": {},
   "outputs": [
    {
     "data": {
      "text/html": [
       "<style>div.warn { background-color: #fcf2f2;border-color: #dFb5b4; border-left: 5px solid #dfb5b4; padding: 0.5em;}</style>"
      ],
      "text/plain": [
       "<IPython.core.display.HTML object>"
      ]
     },
     "execution_count": 1,
     "metadata": {},
     "output_type": "execute_result"
    }
   ],
   "source": [
    "from IPython.display import HTML\n",
    "style_warn = \"<style>div.warn { background-color: #fcf2f2;border-color: #dFb5b4; border-left: 5px solid #dfb5b4; padding: 0.5em;}</style>\"\n",
    "HTML(style_warn)"
   ]
  },
  {
   "cell_type": "markdown",
   "metadata": {},
   "source": [
    "## Preprocessing for Stroke volume prediction"
   ]
  },
  {
   "cell_type": "markdown",
   "metadata": {},
   "source": [
    "### Import packages"
   ]
  },
  {
   "cell_type": "markdown",
   "metadata": {},
   "source": [
    "<div class=\"warn\">**Warning!** : use your directory at `download_directory`</div>\n"
   ]
  },
  {
   "cell_type": "markdown",
   "metadata": {},
   "source": [
    "> **Wargning** <br>\n",
    "> colab 환경을 위한 google drive import 코드가 포함되어 있습니다. <br>\n",
    "> 로컬 환경에서 실행 시 colab을 위한 import function들을 comment out 한 뒤 실행하세요. "
   ]
  },
  {
   "cell_type": "code",
   "execution_count": null,
   "metadata": {},
   "outputs": [],
   "source": [
    "!pip install vitaldb"
   ]
  },
  {
   "cell_type": "code",
   "execution_count": null,
   "metadata": {},
   "outputs": [],
   "source": [
    "from google.colab import drive  # for colab\n",
    "drive.mount('/content/gdrive/')  # for colab"
   ]
  },
  {
   "cell_type": "code",
   "execution_count": null,
   "metadata": {},
   "outputs": [],
   "source": [
    "import os\n",
    "cloud_directory = '/content/gdrive/My Drive/KOHI_2022_CNN_data_open/'\n",
    "os.listdir(cloud_directory) # for colab, check cloud directory mount"
   ]
  },
  {
   "cell_type": "code",
   "execution_count": null,
   "metadata": {},
   "outputs": [],
   "source": [
    "import sys\n",
    "#download_directory = os.getcwd() # for local environments\n",
    "#sys.path.append(download_directory) # for local environments\n",
    "sys.path.append(cloud_directory) # for colab"
   ]
  },
  {
   "cell_type": "code",
   "execution_count": 2,
   "metadata": {},
   "outputs": [],
   "source": [
    "import os\n",
    "import sys\n",
    "download_directory = os.getcwd() # for local environments\n",
    "sys.path.append(download_directory) # for local environments"
   ]
  },
  {
   "cell_type": "code",
   "execution_count": 3,
   "metadata": {},
   "outputs": [],
   "source": [
    "import numpy as np\n",
    "import pandas as pd\n",
    "import glob\n",
    "import kohi_preprocessor as pre\n",
    "import vitaldb\n",
    "from tqdm import tqdm\n",
    "import warnings\n",
    "warnings.filterwarnings(action='ignore')\n",
    "\n",
    "download_directory = cloud_directory # for colab"
   ]
  },
  {
   "cell_type": "markdown",
   "metadata": {},
   "source": [
    "### Data loading\n",
    "샘플 파일을 vitaldb 서버로 부터 직접 다운받아 로드"
   ]
  },
  {
   "cell_type": "markdown",
   "metadata": {},
   "source": [
    "> **TODO:** `00019.vital`을 100hz로 변환하여 `chart_pd_01`에 DataFrame으로 저장하기"
   ]
  },
  {
   "cell_type": "code",
   "execution_count": 4,
   "metadata": {},
   "outputs": [
    {
     "name": "stdout",
     "output_type": "stream",
     "text": [
      "Index(['EV1000/SV', 'SNUADC/ART'], dtype='object')\n"
     ]
    }
   ],
   "source": [
    "track_names = [\"EV1000/SV\", \"SNUADC/ART\"]\n",
    "### =========== Your code here ====================\n",
    "\n",
    "vitalfile = vitaldb.VitalFile(19, track_names=track_names)\n",
    "chart_pd_01 = vitalfile.to_pandas(track_names, interval=1/100)\n",
    "\n",
    "### ===============================================\n",
    "\n",
    "print(chart_pd_01.columns)"
   ]
  },
  {
   "cell_type": "code",
   "execution_count": 5,
   "metadata": {},
   "outputs": [],
   "source": [
    "col_svs = 'EV1000/SV'\n",
    "col_art = 'SNUADC/ART'"
   ]
  },
  {
   "cell_type": "markdown",
   "metadata": {},
   "source": [
    "### Stroke volume 데이터 추출"
   ]
  },
  {
   "cell_type": "code",
   "execution_count": 6,
   "metadata": {},
   "outputs": [
    {
     "name": "stdout",
     "output_type": "stream",
     "text": [
      "53845    61.0\n",
      "54008    61.0\n",
      "54208    61.0\n",
      "54408    61.0\n",
      "54607    61.0\n",
      "Name: EV1000/SV, dtype: float32\n"
     ]
    }
   ],
   "source": [
    "# stroke volume 데이터 추출\n",
    "### =========== Your code here ====================\n",
    "\n",
    "svs_data_pd = chart_pd_01[col_svs][chart_pd_01[col_svs].notnull()]\n",
    "svs_index = svs_data_pd.index.values\n",
    "\n",
    "### ===============================================\n",
    "print(svs_data_pd.head())"
   ]
  },
  {
   "cell_type": "markdown",
   "metadata": {},
   "source": [
    "### arterial wave 데이터 추출 및 nan 지우기"
   ]
  },
  {
   "cell_type": "code",
   "execution_count": 7,
   "metadata": {},
   "outputs": [
    {
     "name": "stdout",
     "output_type": "stream",
     "text": [
      "0    0.0\n",
      "1    0.0\n",
      "2    0.0\n",
      "3    0.0\n",
      "4    0.0\n",
      "Name: SNUADC/ART, dtype: float32\n"
     ]
    }
   ],
   "source": [
    "# art 데이터 전체 추출 및 nan value 채우기\n",
    "### =========== Your code here ====================\n",
    "\n",
    "art_full_pd = chart_pd_01[col_art]\n",
    "art_full_pd = art_full_pd.fillna(0)\n",
    "\n",
    "### ===============================================\n",
    "\n",
    "print(art_full_pd.head())"
   ]
  },
  {
   "cell_type": "markdown",
   "metadata": {},
   "source": [
    "### 데이터셋 만들기\n",
    "필요한 파라미터들 정의"
   ]
  },
  {
   "cell_type": "code",
   "execution_count": 8,
   "metadata": {},
   "outputs": [],
   "source": [
    "# 필요한 파라미터들 정의\n",
    "srate = 100\n",
    "length = 20\n",
    "max_limit_svs = 200 # svs max : 200\n",
    "min_limit_svs = 20  # svs min : 20"
   ]
  },
  {
   "cell_type": "markdown",
   "metadata": {},
   "source": [
    "입력 데이터 길이가 20s이니, svs가 20s 이내에 등장하는 것은 무시함"
   ]
  },
  {
   "cell_type": "code",
   "execution_count": 9,
   "metadata": {},
   "outputs": [
    {
     "name": "stdout",
     "output_type": "stream",
     "text": [
      "[  53845   54008   54208 ... 2700200 2700400 2700600]\n"
     ]
    }
   ],
   "source": [
    "# svs index를 20초 뒤로 미룸\n",
    "### =========== Your code here ====================\n",
    "\n",
    "svs_points = svs_index[svs_index > length*srate]\n",
    "\n",
    "### ===============================================\n",
    "\n",
    "print(svs_points)"
   ]
  },
  {
   "cell_type": "markdown",
   "metadata": {},
   "source": [
    "### Arterial wave segment 추출"
   ]
  },
  {
   "cell_type": "code",
   "execution_count": 10,
   "metadata": {},
   "outputs": [
    {
     "name": "stdout",
     "output_type": "stream",
     "text": [
      "[61. 61. 61. ... 63. 63. 63.]\n",
      "[[ 62.2872   62.2872   58.3374  ...  62.2872   65.2496   66.2371 ]\n",
      " [ 54.3876   56.3625   62.2872  ...  53.4001   51.4252   50.4377 ]\n",
      " [ 65.2496   64.2621   63.2747  ...  75.1242   70.1869   67.2245 ]\n",
      " ...\n",
      " [  6.00217 -13.747    30.6886  ...  -9.79714  -5.84731  19.8266 ]\n",
      " [-26.5839   23.7764   10.9395  ...   2.05234 -16.7093   28.7137 ]\n",
      " [-24.609    21.8015    4.02726 ...  -3.8724  -10.7846   20.814  ]]\n"
     ]
    }
   ],
   "source": [
    "# arterial segment 추출하기\n",
    "### =========== Your code here ====================\n",
    "svs_values_list = [svs_data_pd[idx] for idx in svs_points]\n",
    "art_seg_list = [art_full_pd[idx-(length*srate):idx].values for idx in svs_points]\n",
    "\n",
    "### ===============================================\n",
    "\n",
    "svs_values_np = np.array(svs_values_list)\n",
    "art_seg_np = np.array(art_seg_list)\n",
    "\n",
    "print(svs_values_np)\n",
    "print(art_seg_np)"
   ]
  },
  {
   "cell_type": "markdown",
   "metadata": {},
   "source": [
    "### 조건에 따라 filter들 정의"
   ]
  },
  {
   "cell_type": "code",
   "execution_count": 11,
   "metadata": {},
   "outputs": [
    {
     "name": "stderr",
     "output_type": "stream",
     "text": [
      "100%|██████████| 13217/13217 [02:46<00:00, 79.35it/s] \n"
     ]
    }
   ],
   "source": [
    "# 필터들 선언\n",
    "# svs min-max filter\n",
    "\n",
    "### =========== Your code here ====================\n",
    "\n",
    "svs_max_filter = svs_values_np < max_limit_svs\n",
    "svs_min_filter = svs_values_np > min_limit_svs\n",
    "svs_filter = svs_max_filter & svs_min_filter\n",
    "\n",
    "### ===============================================\n",
    "\n",
    "\n",
    "# abp range filter\n",
    "\n",
    "### =========== Your code here ====================\n",
    "\n",
    "art_filter_list = []\n",
    "for seg in art_seg_np:\n",
    "    filter_value = (np.array(seg) > 25.0).all() and (np.array(seg) < 250.0).all()\n",
    "    art_filter_list.append(filter_value)\n",
    "art_filter = np.array(art_filter_list)\n",
    "\n",
    "### ===============================================\n",
    "\n",
    "\n",
    "# mstds 필터\n",
    "\n",
    "### =========== Your code here ====================\n",
    "\n",
    "mstds_values_list = []\n",
    "for seg in tqdm(art_seg_np):\n",
    "    if (np.array(seg) < 0.).any():\n",
    "        mstds_values_list.append(float(0.))\n",
    "    else:\n",
    "        mstd_val, _ = pre.process_beat(seg)\n",
    "        mstds_values_list.append(mstd_val)\n",
    "mstds_filter = np.array(mstds_values_list) > 0.\n",
    "\n",
    "### ===============================================\n"
   ]
  },
  {
   "cell_type": "markdown",
   "metadata": {},
   "source": [
    "전체 필터 하나로 만들기"
   ]
  },
  {
   "cell_type": "code",
   "execution_count": 12,
   "metadata": {},
   "outputs": [],
   "source": [
    "### =========== Your code here ====================\n",
    "\n",
    "all_filters = svs_filter & art_filter & mstds_filter\n",
    "\n",
    "### ===============================================\n"
   ]
  },
  {
   "cell_type": "markdown",
   "metadata": {},
   "source": [
    "### 필터 적용하여 데이터 추출"
   ]
  },
  {
   "cell_type": "code",
   "execution_count": 13,
   "metadata": {},
   "outputs": [
    {
     "name": "stdout",
     "output_type": "stream",
     "text": [
      "(12363,)\n",
      "(12363, 2000)\n"
     ]
    }
   ],
   "source": [
    "# 필터 적용해서 추출\n",
    "\n",
    "### =========== Your code here ====================\n",
    "\n",
    "svs_filtered = svs_values_np[all_filters]\n",
    "art_filtered = art_seg_np[all_filters]\n",
    "\n",
    "### ===============================================\n",
    "\n",
    "print(svs_filtered.shape)\n",
    "print(art_filtered.shape)"
   ]
  },
  {
   "cell_type": "markdown",
   "metadata": {},
   "source": [
    "데이터셋 정의"
   ]
  },
  {
   "cell_type": "code",
   "execution_count": 14,
   "metadata": {},
   "outputs": [],
   "source": [
    "x_data = art_filtered\n",
    "y_label = svs_filtered"
   ]
  },
  {
   "cell_type": "code",
   "execution_count": 15,
   "metadata": {},
   "outputs": [
    {
     "name": "stdout",
     "output_type": "stream",
     "text": [
      "(12363, 2000)\n",
      "(12363,)\n"
     ]
    }
   ],
   "source": [
    "print(x_data.shape)\n",
    "print(y_label.shape)"
   ]
  },
  {
   "cell_type": "code",
   "execution_count": null,
   "metadata": {},
   "outputs": [],
   "source": []
  },
  {
   "cell_type": "code",
   "execution_count": null,
   "metadata": {},
   "outputs": [],
   "source": []
  },
  {
   "cell_type": "code",
   "execution_count": null,
   "metadata": {},
   "outputs": [],
   "source": []
  }
 ],
 "metadata": {
  "kernelspec": {
   "display_name": "keras",
   "language": "python",
   "name": "lims1_keras"
  },
  "language_info": {
   "codemirror_mode": {
    "name": "ipython",
    "version": 3
   },
   "file_extension": ".py",
   "mimetype": "text/x-python",
   "name": "python",
   "nbconvert_exporter": "python",
   "pygments_lexer": "ipython3",
   "version": "3.8.12"
  }
 },
 "nbformat": 4,
 "nbformat_minor": 4
}
